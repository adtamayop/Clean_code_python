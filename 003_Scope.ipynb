{
 "nbformat": 4,
 "nbformat_minor": 2,
 "metadata": {
  "language_info": {
   "name": "python",
   "codemirror_mode": {
    "name": "ipython",
    "version": 3
   },
   "version": "3.7.3-final"
  },
  "orig_nbformat": 2,
  "file_extension": ".py",
  "mimetype": "text/x-python",
  "name": "python",
  "npconvert_exporter": "python",
  "pygments_lexer": "ipython3",
  "version": 3,
  "kernelspec": {
   "name": "python37364bit6ffdd103293649dfaf131ed7a3334f3f",
   "display_name": "Python 3.7.3 64-bit"
  }
 },
 "cells": [
  {
   "cell_type": "markdown",
   "metadata": {},
   "source": [
    "## Underscore in python\n",
    "\n",
    "There is no strict enforcement, but there are some conventions. An attribute that starts with\n",
    "an underscore is meant to be private to that object, and we expect that no external agent\n",
    "calls it (but again, there is nothing preventing this).\n",
    "\n",
    "Objects should only expose those attributes and methods that are relevant\n",
    "to an external caller object, namely, entailing its interface. Everything that\n",
    "is not strictly part of an object's interface should be kept prefixed with a\n",
    "single underscore."
   ]
  },
  {
   "cell_type": "code",
   "execution_count": 1,
   "metadata": {},
   "outputs": [
    {
     "name": "stdout",
     "output_type": "stream",
     "text": "Andrés\n"
    },
    {
     "data": {
      "text/plain": "24"
     },
     "execution_count": 1,
     "metadata": {},
     "output_type": "execute_result"
    }
   ],
   "source": [
    "# podemos acceder a todos los atributos de la clase\n",
    "class Atributos:\n",
    "    def __init__(self, nombre):\n",
    "        self.nombre = nombre\n",
    "        self._edad = 24\n",
    "\n",
    "a = Atributos(\"Andrés\")\n",
    "print(a.nombre)\n",
    "a._edad"
   ]
  },
  {
   "cell_type": "code",
   "execution_count": 12,
   "metadata": {},
   "outputs": [
    {
     "name": "stdout",
     "output_type": "stream",
     "text": "Andrés\n24\n"
    }
   ],
   "source": [
    "# simulamos un atributo privado\n",
    "class Atributos:\n",
    "    def __init__(self, nombre):\n",
    "        self.nombre = nombre\n",
    "        self.__edad = 24\n",
    "    \n",
    "    def edad(self):\n",
    "        return self.__edad\n",
    "\n",
    "a = Atributos(\"Andrés\")\n",
    "print(a.nombre)\n",
    "print(a.edad())"
   ]
  },
  {
   "cell_type": "code",
   "execution_count": 14,
   "metadata": {},
   "outputs": [
    {
     "ename": "AttributeError",
     "evalue": "'Atributos' object has no attribute '__edad'",
     "output_type": "error",
     "traceback": [
      "\u001b[1;31m---------------------------------------------------------------------------\u001b[0m",
      "\u001b[1;31mAttributeError\u001b[0m                            Traceback (most recent call last)",
      "\u001b[1;32m<ipython-input-14-43889f38d920>\u001b[0m in \u001b[0;36m<module>\u001b[1;34m\u001b[0m\n\u001b[0;32m      1\u001b[0m \u001b[1;31m# si lo intentamos acceder directamente...\u001b[0m\u001b[1;33m\u001b[0m\u001b[1;33m\u001b[0m\u001b[1;33m\u001b[0m\u001b[0m\n\u001b[1;32m----> 2\u001b[1;33m \u001b[0ma\u001b[0m\u001b[1;33m.\u001b[0m\u001b[0m__edad\u001b[0m\u001b[1;33m\u001b[0m\u001b[1;33m\u001b[0m\u001b[0m\n\u001b[0m",
      "\u001b[1;31mAttributeError\u001b[0m: 'Atributos' object has no attribute '__edad'"
     ]
    }
   ],
   "source": [
    "# si lo intentamos acceder directamente...\n",
    "a.__edad"
   ]
  },
  {
   "cell_type": "markdown",
   "metadata": {},
   "source": [
    "Some developers use this method to hide some attributes, thinking, like in this example,\n",
    "that timeout is now private and that no other object can modify it. Now, take a look at\n",
    "the exception that is raised when trying to access `__timeout`. It's AttributeError, saying\n",
    "that it doesn't exist. It doesn't say something like \"this is private\" or \"this can't\n",
    "be accessed\" and so on. It says it does not exist. This should give us a clue that, in fact,\n",
    "something different is happening and that this behavior is instead just a side effect, but not\n",
    "the real effect we want.\n",
    "\n",
    "**Double underscores are a non-Pythonic approach. If you need to define attributes as\n",
    "private, use a single underscore, and respect the Pythonic convention that it is a private\n",
    "attribute.**"
   ]
  },
  {
   "cell_type": "code",
   "execution_count": 15,
   "metadata": {},
   "outputs": [
    {
     "data": {
      "text/plain": "24"
     },
     "execution_count": 15,
     "metadata": {},
     "output_type": "execute_result"
    }
   ],
   "source": [
    "# entonces lo que en realidad pasa es que se crea con un nombre diferente\n",
    "a._Atributos__edad"
   ]
  }
 ]
}