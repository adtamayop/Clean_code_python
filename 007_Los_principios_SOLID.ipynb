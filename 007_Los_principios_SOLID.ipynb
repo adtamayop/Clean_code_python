{
 "cells": [
  {
   "cell_type": "markdown",
   "metadata": {},
   "source": [
    "# The SOLID Principles"
   ]
  },
  {
   "cell_type": "markdown",
   "metadata": {},
   "source": [
    "## Single responsibility principle\n",
    "The single responsibility principle, states that a software component (in general, a\n",
    "class) must have only one responsibility.\n",
    "\n",
    "## Distributing responsibilities\n",
    "To make the solution more maintainable, we separate every method into a different class.\n",
    "This way, each class will have a single responsibility, the idea remains that each class encapsulates a specific set of methods that are independent of the rest.\n",
    "\n",
    "The new classes define interfaces that are not only more maintainable but also reusable.\n",
    "\n",
    "## The open/closed principle\n",
    "The open/closed principle (OCP) states that a module should be both open and closed (but\n",
    "with respect to different aspects).\n",
    "\n",
    "meaning that we will want it to be open to extension but closed for\n",
    "modification.\n",
    "\n",
    "What this means in simple terms is that, of course, we want our code to be extensible, to\n",
    "adapt to new requirements, or changes in the domain problem. This means that, when\n",
    "something new appears on the domain problem, we only want to add new things to our\n",
    "model, not change anything existing that is closed to modification.\n",
    "\n",
    "## Liskov's substitution principle\n",
    "\n",
    "The main idea behind LSP is that, for any class, a client should be able to use any of its\n",
    "subtypes indistinguishably, without even noticing, and therefore without compromising\n",
    "the expected behavior at runtime. This means that clients are completely isolated and\n",
    "unaware of changes in the class hierarchy.\n",
    "\n",
    "if S is a subtype of T, then objects of type T may be replaced by objects of type S, without\n",
    "breaking the program.\n",
    "\n",
    "## Dependency inversion\n",
    "The dependency inversion principle (DIP) proposes an interesting design principle by\n",
    "which we protect our code by making it independent of things that are fragile, volatile, or\n",
    "out of our control.\n",
    "\n"
   ]
  }
 ],
 "metadata": {
  "kernelspec": {
   "display_name": "Python 3.7.3 64-bit",
   "language": "python",
   "name": "python37364bit6ffdd103293649dfaf131ed7a3334f3f"
  },
  "language_info": {
   "codemirror_mode": {
    "name": "ipython",
    "version": 3
   },
   "file_extension": ".py",
   "mimetype": "text/x-python",
   "name": "python",
   "nbconvert_exporter": "python",
   "pygments_lexer": "ipython3",
   "version": "3.7.3"
  }
 },
 "nbformat": 4,
 "nbformat_minor": 4
}
