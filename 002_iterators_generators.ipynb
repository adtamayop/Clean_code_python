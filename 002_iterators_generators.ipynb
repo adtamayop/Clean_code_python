{
 "cells": [
  {
   "cell_type": "markdown",
   "metadata": {},
   "source": [
    "\n",
    "Cuando en una estructura de datos llamamos un elemento por los indices lo que ocurre es que por debajo se utiliza algo llamado  `__getitem__`.\n",
    "\n",
    "Podemos implementar `__getitem__` en una clase personalizada.\n",
    "\n",
    "Ejemplo de cómo un objeto envuelve una lista\n",
    "\n",
    "    class Items:\n",
    "        def __init__(self, *values):\n",
    "            self._values = list(values)\n",
    "        def __len__(self):\n",
    "            return len(self._values)\n",
    "        def __getitem__(self, item):\n",
    "            return self._values.__getitem__(item)"
   ]
  },
  {
   "cell_type": "markdown",
   "metadata": {},
   "source": [
    "## Iterator\n",
    "\n",
    "An **iterable** is anything you’re able to loop over.\n",
    "\n",
    "An **iterator** is the object that does the actual iterating.\n",
    "\n",
    "Can get an iterator from any iterable by calling the built-in `iter` function on the iterable."
   ]
  },
  {
   "cell_type": "code",
   "execution_count": 5,
   "metadata": {},
   "outputs": [
    {
     "data": {
      "text/plain": [
       "<list_iterator at 0x1f2863bcbe0>"
      ]
     },
     "execution_count": 5,
     "metadata": {},
     "output_type": "execute_result"
    }
   ],
   "source": [
    "favorite_numbers = [6, 57, 4, 7, 68, 95]\n",
    "iterator = iter(favorite_numbers)\n",
    "iterator"
   ]
  },
  {
   "cell_type": "code",
   "execution_count": 6,
   "metadata": {},
   "outputs": [
    {
     "name": "stdout",
     "output_type": "stream",
     "text": [
      "6\n",
      "57\n"
     ]
    }
   ],
   "source": [
    "# `next` function on an iterator to get the `next` item from it\n",
    "print(next(iterator))\n",
    "print(next(iterator))"
   ]
  },
  {
   "cell_type": "markdown",
   "metadata": {},
   "source": [
    "Los iteradores le permiten hacer un iterable que computa sus elementos a medida que avanza. Lo que significa que puede hacer iterables que sean perezosos (lazy), ya que no determinan cuál es su próximo elemento hasta que lo solicite.\n",
    "\n",
    "Using an iterator instead of a list, set, or another iterable data structure can sometimes allow us to save memory"
   ]
  },
  {
   "cell_type": "code",
   "execution_count": 9,
   "metadata": {},
   "outputs": [
    {
     "name": "stdout",
     "output_type": "stream",
     "text": [
      "56  bytes\n"
     ]
    }
   ],
   "source": [
    "import sys\n",
    "from itertools import repeat\n",
    "lots_of_fours = repeat(4, times=100_000_000)\n",
    "print(sys.getsizeof(lots_of_fours),\"bytes\")"
   ]
  },
  {
   "cell_type": "code",
   "execution_count": 10,
   "metadata": {},
   "outputs": [
    {
     "name": "stdout",
     "output_type": "stream",
     "text": [
      "800000064 bytes\n"
     ]
    }
   ],
   "source": [
    "lots_of_fours = [4] * 100_000_000\n",
    "print(sys.getsizeof(lots_of_fours),\"bytes\")"
   ]
  },
  {
   "cell_type": "markdown",
   "metadata": {},
   "source": [
    "if you wanted to print out just the first line of a 10 gigabyte log file, you could do this:\n",
    "    >>> print(next(open('giant_log_file.txt')))\n",
    "        This is the first line in a giant file\n"
   ]
  },
  {
   "cell_type": "code",
   "execution_count": 5,
   "metadata": {},
   "outputs": [],
   "source": [
    "class Count:\n",
    "    \"\"\"Iterator that counts upward forever.\"\"\"\n",
    "    def __init__(self, start=0):\n",
    "        self.num = start\n",
    "\n",
    "    def __iter__(self):\n",
    "        return self\n",
    "\n",
    "    def __next__(self):\n",
    "        num = self.num\n",
    "        self.num += 1\n",
    "        return num"
   ]
  },
  {
   "cell_type": "markdown",
   "metadata": {},
   "source": [
    "When an object is passed to the str built-in function, its `__str__` method is called. When an object is passed to the len built-in function, its `__len__` method is called."
   ]
  },
  {
   "cell_type": "code",
   "execution_count": 6,
   "metadata": {},
   "outputs": [
    {
     "data": {
      "text/plain": [
       "('[1, 2, 3]', '[1, 2, 3]')"
      ]
     },
     "execution_count": 6,
     "metadata": {},
     "output_type": "execute_result"
    }
   ],
   "source": [
    "numbers = [1, 2, 3]\n",
    "str(numbers), numbers.__str__()"
   ]
  },
  {
   "cell_type": "code",
   "execution_count": 7,
   "metadata": {},
   "outputs": [
    {
     "data": {
      "text/plain": [
       "(3, 3)"
      ]
     },
     "execution_count": 7,
     "metadata": {},
     "output_type": "execute_result"
    }
   ],
   "source": [
    "len(numbers), numbers.__len__()"
   ]
  },
  {
   "cell_type": "markdown",
   "metadata": {},
   "source": [
    "Calling the built-in `iter` function on an object will attempt to call its `__iter__` method. Calling the built-in `next` function on an object will attempt to call its `__next__` method.\n",
    "\n",
    "The `__iter__` returns the iterator object and is implicitly called at the start of loops.\n",
    "\n",
    "The `__next__()` method returns the next value and is implicitly called at each loop increment. This method raises a StopIteration exception when there are no more value to return, which is implicitly captured by looping constructs to stop iterating."
   ]
  },
  {
   "cell_type": "code",
   "execution_count": 9,
   "metadata": {},
   "outputs": [
    {
     "data": {
      "text/plain": [
       "0"
      ]
     },
     "execution_count": 9,
     "metadata": {},
     "output_type": "execute_result"
    }
   ],
   "source": [
    "c = Count()\n",
    "next(c)"
   ]
  },
  {
   "cell_type": "code",
   "execution_count": 10,
   "metadata": {},
   "outputs": [
    {
     "data": {
      "text/plain": [
       "1"
      ]
     },
     "execution_count": 10,
     "metadata": {},
     "output_type": "execute_result"
    }
   ],
   "source": [
    "next(c)"
   ]
  },
  {
   "cell_type": "code",
   "execution_count": 11,
   "metadata": {},
   "outputs": [
    {
     "data": {
      "text/plain": [
       "2"
      ]
     },
     "execution_count": 11,
     "metadata": {},
     "output_type": "execute_result"
    }
   ],
   "source": [
    "c.__next__()"
   ]
  },
  {
   "cell_type": "markdown",
   "metadata": {},
   "source": [
    "This approach it’s not the usual way that Python programmers make iterators. Usually when we want an iterator, we make a generator.\n",
    "\n",
    "## Generators\n",
    "\n",
    "The easiest ways to make our own iterators in Python is to create a generator.\n",
    "\n",
    "The yield expression is used when defining a generator function or an asynchronous generator function and thus can only be used in the body of a function definition.\n",
    "\n",
    "El yield es una palabra clave que se utiliza como retorno, excepto que la función devolverá un generador.\n",
    "\n",
    "Cuando el intérprete Python encuentra una función que incluye un yield (o varios), entiende que al llamar esta función no obtendremos un valor devuelto con un return, sino que obtendremos un generador (generator). \n",
    "\n",
    "\n"
   ]
  },
  {
   "cell_type": "code",
   "execution_count": 13,
   "metadata": {},
   "outputs": [
    {
     "name": "stdout",
     "output_type": "stream",
     "text": [
      "3\n",
      "4\n",
      "5\n",
      "6\n",
      "7\n",
      "8\n"
     ]
    }
   ],
   "source": [
    "def counter(low, high):\n",
    "    current = low\n",
    "    while current < high:\n",
    "        yield current\n",
    "        current += 1\n",
    "\n",
    "for c in counter(3, 9):\n",
    "    print(c)"
   ]
  },
  {
   "cell_type": "code",
   "execution_count": 14,
   "metadata": {},
   "outputs": [],
   "source": [
    "# generator\n",
    "def uc_gen(text):\n",
    "    for char in text.upper():\n",
    "        yield char\n",
    "\n",
    "# generator expression\n",
    "def uc_genexp(text):\n",
    "    return (char for char in text.upper())\n",
    "\n",
    "# iterator protocol\n",
    "class uc_iter():\n",
    "    def __init__(self, text):\n",
    "        self.text = text.upper()\n",
    "        self.index = 0\n",
    "    def __iter__(self):\n",
    "        return self\n",
    "    def __next__(self):\n",
    "        try:\n",
    "            result = self.text[self.index]\n",
    "        except IndexError:\n",
    "            raise StopIteration\n",
    "        self.index += 1\n",
    "        return result\n",
    "\n",
    "# getitem method\n",
    "class uc_getitem():\n",
    "    def __init__(self, text):\n",
    "        self.text = text.upper()\n",
    "    def __getitem__(self, index):\n",
    "        return self.text[index]"
   ]
  },
  {
   "cell_type": "code",
   "execution_count": 15,
   "metadata": {},
   "outputs": [
    {
     "name": "stdout",
     "output_type": "stream",
     "text": [
      "A B C D E \n",
      "A B C D E \n",
      "A B C D E \n",
      "A B C D E \n"
     ]
    }
   ],
   "source": [
    "for iterator in uc_gen, uc_genexp, uc_iter, uc_getitem:\n",
    "    for ch in iterator('abcde'):\n",
    "        print(ch, end=' ')\n",
    "    print()"
   ]
  }
 ],
 "metadata": {
  "file_extension": ".py",
  "kernelspec": {
   "display_name": "Python 3.7.3 64-bit",
   "language": "python",
   "name": "python37364bit6ffdd103293649dfaf131ed7a3334f3f"
  },
  "language_info": {
   "codemirror_mode": {
    "name": "ipython",
    "version": 3
   },
   "file_extension": ".py",
   "mimetype": "text/x-python",
   "name": "python",
   "nbconvert_exporter": "python",
   "pygments_lexer": "ipython3",
   "version": "3.7.3"
  },
  "mimetype": "text/x-python",
  "name": "python",
  "npconvert_exporter": "python",
  "pygments_lexer": "ipython3",
  "version": 3
 },
 "nbformat": 4,
 "nbformat_minor": 4
}
