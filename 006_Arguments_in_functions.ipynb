{
 "cells": [
  {
   "cell_type": "markdown",
   "metadata": {},
   "source": [
    "## Cómo se copian los argumentos a las funciones? \n",
    "\n",
    "La primera regla en Python es que todos los argumentos se pasan por un valor. Siempre. Esto significa que cuando se pasan valores a funciones, se asignan a las variables en la definición de la función que luego se utilizará en ella.\n",
    "\n",
    "El hecho de que una función cambie los argumentos que le entran dependen del tipo de argumentos, si pasamos objetos mutalbes, y el cuerpo de la función modifica este objeto, entonces, tendremos efectos secundarios de que ellos han sido cambiados en el momento en el que la función retorne estos objetos"
   ]
  },
  {
   "cell_type": "code",
   "execution_count": 23,
   "metadata": {},
   "outputs": [
    {
     "name": "stdout",
     "output_type": "stream",
     "text": [
      "hello in function\n"
     ]
    }
   ],
   "source": [
    "def function(argument):\n",
    "    argument += \" in function\"\n",
    "    print(argument)\n",
    "\n",
    "immutable = \"hello\"\n",
    "function(immutable)"
   ]
  },
  {
   "cell_type": "code",
   "execution_count": 24,
   "metadata": {},
   "outputs": [
    {
     "data": {
      "text/plain": [
       "'hello'"
      ]
     },
     "execution_count": 24,
     "metadata": {},
     "output_type": "execute_result"
    }
   ],
   "source": [
    "immutable"
   ]
  },
  {
   "cell_type": "code",
   "execution_count": 25,
   "metadata": {},
   "outputs": [
    {
     "name": "stdout",
     "output_type": "stream",
     "text": [
      "['h', 'e', 'l', 'l', 'o']\n"
     ]
    }
   ],
   "source": [
    "mutable = list(\"hello\")\n",
    "print(mutable)"
   ]
  },
  {
   "cell_type": "code",
   "execution_count": 26,
   "metadata": {},
   "outputs": [
    {
     "name": "stdout",
     "output_type": "stream",
     "text": [
      "['h', 'e', 'l', 'l', 'o', ' ', 'i', 'n', ' ', 'f', 'u', 'n', 'c', 't', 'i', 'o', 'n']\n"
     ]
    }
   ],
   "source": [
    "function(mutable)"
   ]
  },
  {
   "cell_type": "code",
   "execution_count": 27,
   "metadata": {},
   "outputs": [
    {
     "name": "stdout",
     "output_type": "stream",
     "text": [
      "['h', 'e', 'l', 'l', 'o', ' ', 'i', 'n', ' ', 'f', 'u', 'n', 'c', 't', 'i', 'o', 'n']\n"
     ]
    }
   ],
   "source": [
    "print(mutable)"
   ]
  },
  {
   "cell_type": "markdown",
   "metadata": {},
   "source": [
    "Cuando pasamos el objeto \"immutable\" que es es un `string`, es es asignado al argumento de la función, y ya que los `string` son objetos inmutables una declaración como `asrgument += <expression>` creará de hecho un nuevo objeto `argumento + <expression>`, y asignamos ese nuevo objeto al argumento.\n",
    "\n",
    "En este punto un argumento es solo una variable local dentro del ambito de la función y no tiene nada que ver con la original que se pasó en el caller.\n",
    "\n",
    "Pero por otro lado cuando pasamos unas lista, el cual es un objeto mutable, entonces la declaración tiene un significado diferente, ese operador actua modificando la lista en el lugar sobre una variable que contiene una referencia al objeto de lista original, por lo tanto, modificándolo.\n",
    "\n",
    "Se deben de tener cuidado con este tipo de parámetros porque puede llevar a efectos secundarios no deseados, en general se debe tratar de no mutar los argumentos de funciones"
   ]
  },
  {
   "cell_type": "markdown",
   "metadata": {},
   "source": [
    "## Número variable de argumentos\n",
    "\n",
    "For a variable number of positional arguments, the star symbol (*) is used, preceding the name of the variable that is packing those arguments.\n",
    "\n",
    "Por ejm si tenemos una función que recibe varios parámetros, y tenemos todos los parámetros que recibe la función en el ordeen esperado, una forma errónea de pasar esos argumentos es pasarlos como list[0], list[1], esto está mal, en luca usamos el mecanismo de empaquetamiento de pytohn y los pasamos todos con una sola instrucción, así:"
   ]
  },
  {
   "cell_type": "code",
   "execution_count": 28,
   "metadata": {},
   "outputs": [
    {
     "name": "stdout",
     "output_type": "stream",
     "text": [
      "1\n",
      "2\n",
      "3\n"
     ]
    }
   ],
   "source": [
    "def f(first, second, third):\n",
    "    print(first)\n",
    "    print(second)\n",
    "    print(third)\n",
    "\n",
    "l = [1, 2, 3]\n",
    "f(*l)"
   ]
  },
  {
   "cell_type": "markdown",
   "metadata": {},
   "source": [
    "### Desempaquetado parcial"
   ]
  },
  {
   "cell_type": "code",
   "execution_count": 31,
   "metadata": {},
   "outputs": [
    {
     "name": "stdout",
     "output_type": "stream",
     "text": [
      "Element: 1 - Rest: [2, 3, 4, 5]\n"
     ]
    }
   ],
   "source": [
    "def show(e, rest):\n",
    "    print(\"Element: {0} - Rest: {1}\".format(e, rest))\n",
    "\n",
    "first, *rest = [1, 2, 3, 4, 5]\n",
    "show(first, rest)"
   ]
  },
  {
   "cell_type": "code",
   "execution_count": 32,
   "metadata": {},
   "outputs": [
    {
     "name": "stdout",
     "output_type": "stream",
     "text": [
      "Element: 5 - Rest: [0, 1, 2, 3, 4]\n"
     ]
    }
   ],
   "source": [
    "*rest, last = range(6)\n",
    "show(last, rest)"
   ]
  },
  {
   "cell_type": "code",
   "execution_count": 34,
   "metadata": {},
   "outputs": [
    {
     "data": {
      "text/plain": [
       "0"
      ]
     },
     "execution_count": 34,
     "metadata": {},
     "output_type": "execute_result"
    }
   ],
   "source": [
    "first, *middle, last = range(6)\n",
    "first"
   ]
  },
  {
   "cell_type": "code",
   "execution_count": 36,
   "metadata": {},
   "outputs": [
    {
     "data": {
      "text/plain": [
       "[1, 2, 3, 4]"
      ]
     },
     "execution_count": 36,
     "metadata": {},
     "output_type": "execute_result"
    }
   ],
   "source": [
    "middle"
   ]
  },
  {
   "cell_type": "code",
   "execution_count": 37,
   "metadata": {},
   "outputs": [
    {
     "data": {
      "text/plain": [
       "5"
      ]
     },
     "execution_count": 37,
     "metadata": {},
     "output_type": "execute_result"
    }
   ],
   "source": [
    "last"
   ]
  },
  {
   "cell_type": "code",
   "execution_count": 38,
   "metadata": {},
   "outputs": [
    {
     "data": {
      "text/plain": [
       "1"
      ]
     },
     "execution_count": 38,
     "metadata": {},
     "output_type": "execute_result"
    }
   ],
   "source": [
    "first, last, *empty = (1, 2)\n",
    "first"
   ]
  },
  {
   "cell_type": "code",
   "execution_count": 39,
   "metadata": {},
   "outputs": [
    {
     "data": {
      "text/plain": [
       "2"
      ]
     },
     "execution_count": 39,
     "metadata": {},
     "output_type": "execute_result"
    }
   ],
   "source": [
    "last"
   ]
  },
  {
   "cell_type": "code",
   "execution_count": 40,
   "metadata": {},
   "outputs": [
    {
     "data": {
      "text/plain": [
       "[]"
      ]
     },
     "execution_count": 40,
     "metadata": {},
     "output_type": "execute_result"
    }
   ],
   "source": [
    "empty"
   ]
  },
  {
   "cell_type": "markdown",
   "metadata": {},
   "source": [
    "There is a similar notation, with two stars (**) for keyword arguments. If we have a dictionary and we pass it with a double star to a function, what it will do is pick the keys as\n",
    "the name for the parameter, and pass the value for that key as the value for that parameter in that function.\n",
    "\n",
    "For instance, check this out:\n",
    "\n",
    "    function(**{\"key\": \"value\"})\n",
    "        \n",
    "It is the same as the following:\n",
    "\n",
    "    function(key=\"value\")"
   ]
  },
  {
   "cell_type": "markdown",
   "metadata": {},
   "source": [
    "---"
   ]
  }
 ],
 "metadata": {
  "kernelspec": {
   "display_name": "Python 3.7.3 64-bit",
   "language": "python",
   "name": "python37364bit6ffdd103293649dfaf131ed7a3334f3f"
  },
  "language_info": {
   "codemirror_mode": {
    "name": "ipython",
    "version": 3
   },
   "file_extension": ".py",
   "mimetype": "text/x-python",
   "name": "python",
   "nbconvert_exporter": "python",
   "pygments_lexer": "ipython3",
   "version": "3.7.3"
  }
 },
 "nbformat": 4,
 "nbformat_minor": 4
}
